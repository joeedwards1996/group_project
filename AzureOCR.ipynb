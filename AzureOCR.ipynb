{
 "cells": [
  {
   "cell_type": "code",
   "execution_count": 3,
   "metadata": {},
   "outputs": [],
   "source": [
    "import cv2\n",
    "\n",
    "from azure.cognitiveservices.vision.computervision import ComputerVisionClient\n",
    "from azure.cognitiveservices.vision.computervision.models import VisualFeatureTypes, Details\n",
    "from msrest.authentication import CognitiveServicesCredentials\n",
    "\n",
    "import azure.ai.vision as sdk\n",
    "\n",
    "\n",
    "key = '361dd87102f7494c8829b5e26840bed4'\n",
    "endPoint = 'https://con-bib-cogsvc-compvision.cognitiveservices.azure.com/'"
   ]
  },
  {
   "cell_type": "code",
   "execution_count": 5,
   "metadata": {},
   "outputs": [],
   "source": [
    "def image_analysis():\n",
    "    service_options = sdk.VisionServiceOptions(endPoint, key)\n",
    "    vision_source = sdk.VisionSource(filename=\"./Res/red_car.jpg\")\n",
    "\n",
    "    analysis_options = sdk.ImageAnalysisOptions()\n",
    "\n",
    "    analysis_options.features = (\n",
    "        sdk.ImageAnalysisFeature.TEXT |\n",
    "        sdk.ImageAnalysisFeature.TAGS\n",
    "    )\n",
    "\n",
    "\n",
    "    image_analyser = sdk.ImageAnalyzer(service_options, vision_source, analysis_options)\n",
    "\n",
    "    print()\n",
    "    print('please wait for results')\n",
    "\n",
    "    result = image_analyser.analyze()\n",
    "\n",
    "    if result.reason == sdk.ImageAnalysisResultReason.ANALYZED:\n",
    "\n",
    "        if result.tags is not None: \n",
    "            print(\"Tags: \")\n",
    "            for tag in result.tags:\n",
    "                print(\" '{}', confidence {:.4f}\".format(tag.name, tag.confidence))\n",
    "\n",
    "        \n",
    "        if result.text is not None: \n",
    "            print(\" Text:\")\n",
    "            for line in result.text.lines:\n",
    "                points_string = \"{\" + \", \".join([str(int(point)) for point in line.bounding_polygon]) + \"}\"\n",
    "                print(\"   Line: '{}', Bounding polygon {}\".format(line.content, points_string))\n",
    "                for word in line.words:\n",
    "                    points_string = \"{\" + \", \".join([str(int(point)) for point in word.bounding_polygon]) + \"}\"\n",
    "                    print(\"     Word: '{}', Bounding polygon {}, Confidence {:.4f}\"\n",
    "                          .format(word.content, points_string, word.confidence))\n",
    "                    \n",
    "\n",
    "        \n",
    "        result_details = sdk.ImageAnalysisResultDetails.from_result(result)\n",
    "        print(\" Result details:\")\n",
    "        print(\"   Image ID: {}\".format(result_details.image_id))\n",
    "        print(\"   Result ID: {}\".format(result_details.result_id))\n",
    "        print(\"   Connection URL: {}\".format(result_details.connection_url))\n",
    "        print(\"   JSON result: {}\".format(result_details.json_result))\n",
    "                    \n",
    "    else:\n",
    "\n",
    "        error_details = sdk.ImageAnalysisErrorDetails.from_result(result)\n",
    "        print(\" Analysis failed.\")\n",
    "        print(\"   Error reason: {}\".format(error_details.reason))\n",
    "        print(\"   Error code: {}\".format(error_details.error_code))\n",
    "        print(\"   Error message: {}\".format(error_details.message))\n",
    "        print(\" Did you set the computer vision endpoint and key?\")\n",
    "\n",
    "\n",
    "        \n"
   ]
  },
  {
   "cell_type": "code",
   "execution_count": null,
   "metadata": {},
   "outputs": [],
   "source": []
  }
 ],
 "metadata": {
  "kernelspec": {
   "display_name": "Group Challenge",
   "language": "python",
   "name": "python3"
  },
  "language_info": {
   "codemirror_mode": {
    "name": "ipython",
    "version": 3
   },
   "file_extension": ".py",
   "mimetype": "text/x-python",
   "name": "python",
   "nbconvert_exporter": "python",
   "pygments_lexer": "ipython3",
   "version": "3.11.3"
  },
  "orig_nbformat": 4
 },
 "nbformat": 4,
 "nbformat_minor": 2
}
